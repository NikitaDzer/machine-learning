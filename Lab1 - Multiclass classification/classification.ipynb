{
 "cells": [
  {
   "cell_type": "code",
   "execution_count": 28,
   "id": "14cfb587-7030-49f5-9ad2-c3c2404b3c87",
   "metadata": {},
   "outputs": [],
   "source": [
    "import matplotlib.pyplot as plt\n",
    "import numpy as np\n",
    "\n",
    "import torch\n",
    "from torchvision import datasets, transforms\n",
    "\n",
    "import sklearn\n",
    "from sklearn.model_selection import ParameterGrid"
   ]
  },
  {
   "cell_type": "markdown",
   "id": "e78940af-3f01-434a-8899-64d2c4213d6f",
   "metadata": {},
   "source": [
    "# Выборка\n",
    "Датасет **MNIST** из http://yann.lecun.com/exdb/mnist/ содержит изображения рукописных цифр размером 28x28 пикселей."
   ]
  },
  {
   "cell_type": "markdown",
   "id": "ac52fb53-5105-4440-8fe6-3229ab0c6a4b",
   "metadata": {},
   "source": [
    "## Множество ответов\n",
    "Ответом служит цифра, то есть целочисленное значение от 0 до 9."
   ]
  },
  {
   "cell_type": "markdown",
   "id": "fef3cd99-4d8f-4ce7-a10f-71177f7f21f2",
   "metadata": {},
   "source": [
    "## Типы признаков\n",
    "Датасет состоит из изображений 28х28, количество признаков 28 * 28 = 784, <br>\n",
    "каждый из которых является яркостью сегмента и имеет целочисленное значение от 0 до 255."
   ]
  },
  {
   "cell_type": "markdown",
   "id": "44e8011c-944b-4fe2-902c-63724b87f9ee",
   "metadata": {},
   "source": [
    "## Визуализация данных"
   ]
  },
  {
   "cell_type": "code",
   "execution_count": 29,
   "id": "bd3de02b-1efa-4c4b-b8ab-45df3aa4f8d3",
   "metadata": {},
   "outputs": [
    {
     "data": {
      "image/png": "[encoded data removed]",
      "text/plain": [
       "<Figure size 1500x300 with 5 Axes>"
      ]
     },
     "metadata": {},
     "output_type": "display_data"
    }
   ],
   "source": [
    "MNIST = datasets.MNIST(root = './data', train = True, download = True, transform = transforms.ToTensor())\n",
    "train_loader_pytorch = torch.utils.data.DataLoader(MNIST, batch_size = 1, shuffle = False)\n",
    "\n",
    "plt.figure(figsize=(15, 3))\n",
    "\n",
    "for i, (image, label) in enumerate(train_loader_pytorch):\n",
    "    if i < 5:\n",
    "        plt.subplot(1, 5, i + 1)\n",
    "        plt.imshow(image[0].squeeze(), cmap = 'gray')\n",
    "        plt.title(f\"Label: {label.item()}\")\n",
    "        plt.axis('off')\n",
    "    else:\n",
    "        break\n",
    "\n",
    "plt.tight_layout()\n",
    "plt.show()"
   ]
  },
  {
   "cell_type": "markdown",
   "id": "65115a3e-9f17-4cc3-a37f-493e636163c7",
   "metadata": {},
   "source": [
    "# Препроцессинг данных\n",
    "60000 train/test данных занимает огромное количество времени. <br>\n",
    "Выберем 3000 данных для train и 600 для test. "
   ]
  },
  {
   "cell_type": "code",
   "execution_count": 30,
   "id": "0d33b6ac-11c3-4512-b877-f6a511447bb8",
   "metadata": {},
   "outputs": [
    {
     "name": "stdout",
     "output_type": "stream",
     "text": [
      "3000\n",
      "600\n"
     ]
    }
   ],
   "source": [
    "from sklearn.model_selection import train_test_split\n",
    "\n",
    "X_all = MNIST.data.view(-1, 28 * 28).numpy()\n",
    "Y_all = MNIST.targets.numpy()\n",
    "\n",
    "# Разделение на обучающую и тестовую выборки.\n",
    "X_train, X_test, Y_train, Y_test = train_test_split(X_all, Y_all, train_size = 0.05, test_size = 0.01)\n",
    "\n",
    "print(len(X_train))\n",
    "print(len(X_test))"
   ]
  },
  {
   "cell_type": "markdown",
   "id": "1d2b00e1-6478-45f5-837b-02247b5390ff",
   "metadata": {},
   "source": [
    "# Эксперимент для предложенных методов\n"
   ]
  },
  {
   "cell_type": "code",
   "execution_count": 31,
   "id": "dbb5f482-80df-4ea5-b42f-a994e8c61712",
   "metadata": {},
   "outputs": [],
   "source": [
    "from sklearn.model_selection import cross_val_score\n",
    "from sklearn.model_selection import KFold, StratifiedKFold\n",
    "from sklearn.metrics import accuracy_score"
   ]
  },
  {
   "cell_type": "markdown",
   "id": "282bfcc5-4a83-4f21-b0fe-a019dc293b92",
   "metadata": {},
   "source": [
    "Оптимизация гиперпараметров:"
   ]
  },
  {
   "cell_type": "code",
   "execution_count": 32,
   "id": "28609adb-d7f9-48c6-acf6-3c9c4c88c394",
   "metadata": {},
   "outputs": [],
   "source": [
    "def opt_params(model, hyperparams, X_train, Y_train, cv):\n",
    "    all_params = []\n",
    "    \n",
    "    for i, params in enumerate(hyperparams):\n",
    "        # Прокидываем параметры в модель\n",
    "        param_model = model(**params)\n",
    "\n",
    "        # Считаем accuracy модели\n",
    "        score = cross_val_score(param_model, X = X_train, y = Y_train, cv = cv, scoring = 'accuracy', n_jobs = 6).mean()\n",
    "        all_params.append({'params': params, 'score': score})\n",
    "\n",
    "    # Достаем лучшие параметры\n",
    "    best_params = max(all_params, key = lambda x: x['score'])\n",
    "    \n",
    "    return best_params['params'], best_params['score']"
   ]
  },
  {
   "cell_type": "markdown",
   "id": "208cc7bd-5340-4fc8-b6d1-cd75e15fdae6",
   "metadata": {},
   "source": [
    "Проверка модели:"
   ]
  },
  {
   "cell_type": "code",
   "execution_count": 33,
   "id": "ec4144fd-a968-4426-aeb9-dd9c6350d7f2",
   "metadata": {},
   "outputs": [],
   "source": [
    "def test_model(model, hyperparams, X_train, Y_train, X_test, Y_test):\n",
    "    # Обучаем модель\n",
    "    fit_model = model(**hyperparams).fit(X_train, Y_train)\n",
    "\n",
    "    # Считаем accuracy модели на тестовой выборке\n",
    "    Y_pred = fit_model.predict(X_test)\n",
    "    return accuracy_score(Y_test, Y_pred)"
   ]
  },
  {
   "cell_type": "markdown",
   "id": "4e3cf248-46c4-4033-8b59-426285779b0b",
   "metadata": {},
   "source": [
    "## SVM"
   ]
  },
  {
   "cell_type": "markdown",
   "id": "b9f3cd6e-1f51-497a-bc09-97e294aecb0a",
   "metadata": {},
   "source": [
    "Описание модели:"
   ]
  },
  {
   "cell_type": "code",
   "execution_count": 34,
   "id": "b6183d1b-5de5-432a-aa50-123e84b28690",
   "metadata": {},
   "outputs": [],
   "source": [
    "from sklearn.svm import SVC\n",
    "\n",
    "model = SVC\n",
    "\n",
    "grid = ParameterGrid({\n",
    "    'C': [5e-5, 1e-4, 1e-2],\n",
    "    'gamma': [5e-5, 1e-4, 1e-2],\n",
    "    'kernel': ['sigmoid', 'linear', 'poly']\n",
    "})"
   ]
  },
  {
   "cell_type": "markdown",
   "id": "7ebb0798-8d64-490b-a8dc-8c831d338ce6",
   "metadata": {},
   "source": [
    "Оптимизация гиперпараметров:"
   ]
  },
  {
   "cell_type": "code",
   "execution_count": 35,
   "id": "bcb3fbd6-ec45-4f84-b98b-29283ad775d6",
   "metadata": {},
   "outputs": [
    {
     "name": "stdout",
     "output_type": "stream",
     "text": [
      "KFold:\n",
      "{'C': 5e-05, 'gamma': 5e-05, 'kernel': 'poly'}\n",
      "0.9196666666666665\n"
     ]
    }
   ],
   "source": [
    "kfold_params, score = opt_params(model, grid, X_train, Y_train, KFold(n_splits = 10))\n",
    "print(\"KFold:\")\n",
    "print(kfold_params)\n",
    "print(score)"
   ]
  },
  {
   "cell_type": "code",
   "execution_count": 36,
   "id": "c661fffb-2ab5-4300-87b9-804914f61a12",
   "metadata": {},
   "outputs": [
    {
     "name": "stdout",
     "output_type": "stream",
     "text": [
      "StratifiedKFold:\n",
      "{'C': 5e-05, 'gamma': 5e-05, 'kernel': 'poly'}\n",
      "0.9216666666666666\n"
     ]
    }
   ],
   "source": [
    "strat_params, score = opt_params(model, grid, X_train, Y_train, StratifiedKFold(n_splits = 10))\n",
    "print(\"StratifiedKFold:\")\n",
    "print(strat_params)\n",
    "print(score)"
   ]
  },
  {
   "cell_type": "markdown",
   "id": "22caeed6-aea0-4810-b701-92ddb60803e5",
   "metadata": {},
   "source": [
    "Проверка модели:"
   ]
  },
  {
   "cell_type": "code",
   "execution_count": 37,
   "id": "601ab9e1-baa4-4b3d-b79a-335d3207cd83",
   "metadata": {},
   "outputs": [
    {
     "name": "stdout",
     "output_type": "stream",
     "text": [
      "KFold:\n",
      "0.93\n"
     ]
    }
   ],
   "source": [
    "accuracy = test_model(model, kfold_params, X_train, Y_train, X_test, Y_test)\n",
    "print(\"KFold:\")\n",
    "print(accuracy)"
   ]
  },
  {
   "cell_type": "code",
   "execution_count": 38,
   "id": "696bff17-0789-4682-9aae-9f86fe829c9d",
   "metadata": {},
   "outputs": [
    {
     "name": "stdout",
     "output_type": "stream",
     "text": [
      "StratifiedKFold:\n",
      "0.93\n"
     ]
    }
   ],
   "source": [
    "accuracy = test_model(model, strat_params, X_train, Y_train, X_test, Y_test)\n",
    "print(\"StratifiedKFold:\")\n",
    "print(accuracy)"
   ]
  },
  {
   "cell_type": "markdown",
   "id": "105ce71b-a859-422d-b64a-72996ccd4425",
   "metadata": {},
   "source": [
    "## Перцептрон"
   ]
  },
  {
   "cell_type": "markdown",
   "id": "00246618-2e49-4b7f-924e-96634d0ad881",
   "metadata": {},
   "source": [
    "Описание модели:"
   ]
  },
  {
   "cell_type": "code",
   "execution_count": 39,
   "id": "39c0a667-80a2-42a0-b865-b57363d52174",
   "metadata": {},
   "outputs": [],
   "source": [
    "from sklearn.linear_model import Perceptron\n",
    "\n",
    "model = Perceptron\n",
    "\n",
    "grid = ParameterGrid({\n",
    "    'tol': [1e-5, 1e-3, 1e-1],\n",
    "    'eta0': [1e-4, 1e-3, 1e-2, 1e-1],\n",
    "    'penalty': ['l2', 'l1']\n",
    "})"
   ]
  },
  {
   "cell_type": "markdown",
   "id": "c55d67fd-ea33-4a10-b99c-393f22220b8d",
   "metadata": {},
   "source": [
    "Оптимизация гиперпараметров:"
   ]
  },
  {
   "cell_type": "code",
   "execution_count": 40,
   "id": "dd66c897-f311-4640-9816-5709b8a7c721",
   "metadata": {},
   "outputs": [
    {
     "name": "stdout",
     "output_type": "stream",
     "text": [
      "KFold:\n",
      "{'eta0': 0.01, 'penalty': 'l2', 'tol': 0.1}\n",
      "0.8416666666666666\n"
     ]
    }
   ],
   "source": [
    "kfold_params, score = opt_params(model, grid, X_train, Y_train, KFold(n_splits = 10))\n",
    "print(\"KFold:\")\n",
    "print(kfold_params)\n",
    "print(score)"
   ]
  },
  {
   "cell_type": "code",
   "execution_count": 41,
   "id": "951ea6bf-412b-4d0c-b6e7-33f572153e50",
   "metadata": {},
   "outputs": [
    {
     "name": "stdout",
     "output_type": "stream",
     "text": [
      "StratifiedKFold:\n",
      "{'eta0': 0.0001, 'penalty': 'l2', 'tol': 1e-05}\n",
      "0.8416666666666666\n"
     ]
    }
   ],
   "source": [
    "strat_params, score = opt_params(model, grid, X_train, Y_train, StratifiedKFold(n_splits = 10))\n",
    "print(\"StratifiedKFold:\")\n",
    "print(strat_params)\n",
    "print(score)"
   ]
  },
  {
   "cell_type": "markdown",
   "id": "0982ce7b-f86b-4e96-a558-a108eefaccda",
   "metadata": {},
   "source": [
    "Проверка модели:"
   ]
  },
  {
   "cell_type": "code",
   "execution_count": 42,
   "id": "cab18746-2cf9-4c08-98d1-91d8d8a1358a",
   "metadata": {},
   "outputs": [
    {
     "name": "stdout",
     "output_type": "stream",
     "text": [
      "KFold:\n",
      "0.8566666666666667\n"
     ]
    }
   ],
   "source": [
    "accuracy = test_model(model, kfold_params, X_train, Y_train, X_test, Y_test)\n",
    "print(\"KFold:\")\n",
    "print(accuracy)"
   ]
  },
  {
   "cell_type": "code",
   "execution_count": 43,
   "id": "5e2036a9-4a21-4cbb-87e6-5980e44767fd",
   "metadata": {},
   "outputs": [
    {
     "name": "stdout",
     "output_type": "stream",
     "text": [
      "StratifiedKFold:\n",
      "0.84\n"
     ]
    }
   ],
   "source": [
    "accuracy = test_model(model, strat_params, X_train, Y_train, X_test, Y_test)\n",
    "print(\"StratifiedKFold:\")\n",
    "print(accuracy)"
   ]
  },
  {
   "cell_type": "markdown",
   "id": "b1644c6a-58a3-4fca-b3a0-4a520783db12",
   "metadata": {},
   "source": [
    "## Метод Парзеновского окна"
   ]
  },
  {
   "cell_type": "markdown",
   "id": "12b7a47d-e006-4d14-8e3e-cd62908ff422",
   "metadata": {},
   "source": [
    "Описание модели:"
   ]
  },
  {
   "cell_type": "code",
   "execution_count": 44,
   "id": "67771b8d-9225-452e-b3a6-0ab8c1825581",
   "metadata": {},
   "outputs": [],
   "source": [
    "from sklearn.base import BaseEstimator\n",
    "from sklearn.neighbors import KernelDensity\n",
    "\n",
    "class Parzen(BaseEstimator):\n",
    "    def __init__(self, *, kernel = None, bandwidth = None):\n",
    "        self.kernel = kernel\n",
    "        self.bandwidth = bandwidth\n",
    "        self.kde_models = {}\n",
    "\n",
    "    def predict(self, X_test):\n",
    "        scores = np.zeros((X_test.shape[0], 10))\n",
    "        for i in range(10):\n",
    "            # Оценка плотности для тестовых данных\n",
    "            log_density = self.kde_models[i].score_samples(X_test)\n",
    "            scores[:, i] = log_density\n",
    "\n",
    "        # Предсказание цифры с максимальной оцененной плотностью\n",
    "        Y_pred = np.argmax(scores, axis = 1)\n",
    "        return Y_pred\n",
    "        \n",
    "    def fit(self, X_train, Y_train):\n",
    "        for i in range(10):\n",
    "            # Выбор данных для текущей цифры\n",
    "            X_current = X_train[Y_train == i]\n",
    "    \n",
    "            # Обучение KDE\n",
    "            kde = KernelDensity(kernel = self.kernel, bandwidth = self.bandwidth).fit(X_current)\n",
    "            self.kde_models[i] = kde\n",
    "            \n",
    "        self.is_fitted_ = True\n",
    "        return self"
   ]
  },
  {
   "cell_type": "code",
   "execution_count": 45,
   "id": "d50b7a12-f3a0-4371-b642-733e8c337ce9",
   "metadata": {},
   "outputs": [],
   "source": [
    "model = Parzen\n",
    "\n",
    "grid = ParameterGrid({\n",
    "    'bandwidth': [1e-3, 1e-2, 1e-1],\n",
    "    'kernel': ['gaussian', 'tophat', 'exponential']\n",
    "})"
   ]
  },
  {
   "cell_type": "markdown",
   "id": "24c82424-fc8f-482b-abe7-62213c471f6b",
   "metadata": {},
   "source": [
    "Оптимизация гиперпараметров:"
   ]
  },
  {
   "cell_type": "code",
   "execution_count": 46,
   "id": "712f0682-65a8-4180-bcd0-5ad7ed436f22",
   "metadata": {},
   "outputs": [
    {
     "name": "stdout",
     "output_type": "stream",
     "text": [
      "KFold:\n",
      "{'bandwidth': 0.01, 'kernel': 'gaussian'}\n",
      "0.7583333333333333\n"
     ]
    }
   ],
   "source": [
    "kfold_params, score = opt_params(model, grid, X_train, Y_train, KFold(n_splits = 10))\n",
    "print(\"KFold:\")\n",
    "print(kfold_params)\n",
    "print(score)"
   ]
  },
  {
   "cell_type": "code",
   "execution_count": 47,
   "id": "839a02a3-0182-4f04-8e04-8ee52c2ace8e",
   "metadata": {},
   "outputs": [
    {
     "name": "stdout",
     "output_type": "stream",
     "text": [
      "StratifiedKFold:\n",
      "{'bandwidth': 0.01, 'kernel': 'gaussian'}\n",
      "0.7473333333333333\n"
     ]
    }
   ],
   "source": [
    "strat_params, score = opt_params(model, grid, X_train, Y_train, StratifiedKFold(n_splits = 10))\n",
    "print(\"StratifiedKFold:\")\n",
    "print(strat_params)\n",
    "print(score)"
   ]
  },
  {
   "cell_type": "markdown",
   "id": "7b417cf2-d014-4b29-ba5f-96d91d61f0d0",
   "metadata": {},
   "source": [
    "Проверка модели:"
   ]
  },
  {
   "cell_type": "code",
   "execution_count": 48,
   "id": "e8ed61f8-86cd-4896-952a-7870d424a16c",
   "metadata": {},
   "outputs": [
    {
     "name": "stdout",
     "output_type": "stream",
     "text": [
      "KFold:\n",
      "0.7816666666666666\n"
     ]
    }
   ],
   "source": [
    "accuracy = test_model(model, kfold_params, X_train, Y_train, X_test, Y_test)\n",
    "print(\"KFold:\")\n",
    "print(accuracy)"
   ]
  },
  {
   "cell_type": "code",
   "execution_count": 49,
   "id": "0ff29c16-b9c0-40ba-87e2-66a0a34d1938",
   "metadata": {},
   "outputs": [
    {
     "name": "stdout",
     "output_type": "stream",
     "text": [
      "StratifiedKFold:\n",
      "0.7816666666666666\n"
     ]
    }
   ],
   "source": [
    "accuracy = test_model(model, strat_params, X_train, Y_train, X_test, Y_test)\n",
    "print(\"StratifiedKFold:\")\n",
    "print(accuracy)"
   ]
  },
  {
   "cell_type": "markdown",
   "id": "50962069-4f0c-48e9-9f89-b50eb908d336",
   "metadata": {},
   "source": [
    "# Анализ полученных результатов"
   ]
  },
  {
   "cell_type": "markdown",
   "id": "2c0e33be-b8f1-4d4b-bd68-06987a4e5af5",
   "metadata": {},
   "source": [
    "## Общие сведения\n",
    "- Обработка изображений рукописных цифр есть задача **многоклассовой классификации**. \n",
    "- **SVM** - метод, который эффективно работает с высокоразмерными данными, поэтому хорошо подходит для данной задачи.\n",
    "- Рассмотрены методы классификации: **SVM**, **Перцептрон**, **Метод Парзеновского окна**\n",
    "- Рассмотрены методы подбора гиперпараметров: **KFold** и **StratifiedKFold**."
   ]
  },
  {
   "cell_type": "markdown",
   "id": "3478b8a0-5787-4f10-937b-88bfcac34430",
   "metadata": {},
   "source": [
    "## SVM\n",
    "| Параметр                   | KFold | StratifiedKFold |\n",
    "|----------------------------|:-----:|--------------|\n",
    "| С                          |   5e-5   | 5e-5            |\n",
    "| gamma                      |   1e-4   | 1e-4            |\n",
    "| kernel                     |   poly   | poly            |\n",
    "| accuracy                   |  0.93  | 0.93          |"
   ]
  },
  {
   "cell_type": "markdown",
   "id": "550ab697-bd3e-4f72-b683-3f2b66bd385e",
   "metadata": {},
   "source": [
    "## Перцептрон\n",
    "| Параметр                   | KFold | StratifiedKFold |\n",
    "|----------------------------|:-----:|--------------|\n",
    "| eta0                          |   1e-2  | 1e-4            |\n",
    "| tol                      |   1e-1   | 1e-5            |\n",
    "| penaly                     |   l2   | l2            |\n",
    "| accuracy                   |  0.86  | 0.84          |"
   ]
  },
  {
   "cell_type": "markdown",
   "id": "8123823e-a481-4df1-9162-67d7c1c51ac7",
   "metadata": {},
   "source": [
    "## Метод Парзеновского окна\n",
    "| Параметр                   | KFold | StratifiedKFold |\n",
    "|----------------------------|:-----:|--------------|\n",
    "| bandwidth                 |   1e-2   | 1e-2            |\n",
    "| kernel                      |   gaussian   | gaussian            |\n",
    "| accuracy                   |  0.78  | 0.78          |"
   ]
  },
  {
   "cell_type": "markdown",
   "id": "63efa736-4f2d-48e2-b213-ac66f442092b",
   "metadata": {},
   "source": [
    "## Проблемы\n",
    "\n",
    "- Датасет оказался очень большим, поэтому пришлось его сократить, чтобы обучение происходило за разумное время.\n",
    "- Пришлось реализовывать Метод Парзеновского окна, так как его нет в стандартных библиотеках."
   ]
  },
  {
   "cell_type": "markdown",
   "id": "93581802-c18c-42e6-b2f0-3a92ea908c57",
   "metadata": {},
   "source": [
    "## Итоги\n",
    "- Самая точная модель на заданном датасете - **SVM**.\n",
    "- Методы подбора гиперпараметров **KFold** и **StratifiedKFold** почти не отличаются по результатам."
   ]
  }
 ],
 "metadata": {
  "kernelspec": {
   "display_name": "Python 3 (ipykernel)",
   "language": "python",
   "name": "python3"
  },
  "language_info": {
   "codemirror_mode": {
    "name": "ipython",
    "version": 3
   },
   "file_extension": ".py",
   "mimetype": "text/x-python",
   "name": "python",
   "nbconvert_exporter": "python",
   "pygments_lexer": "ipython3",
   "version": "3.12.7"
  }
 },
 "nbformat": 4,
 "nbformat_minor": 5
}
